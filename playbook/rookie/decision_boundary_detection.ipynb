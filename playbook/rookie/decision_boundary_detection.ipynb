{
 "cells": [
  {
   "attachments": {},
   "cell_type": "markdown",
   "metadata": {},
   "source": [
    "# Create decision boundary \n",
    "\n",
    "We use certainty ratios to extract data samples that lie on a decision boundary. \n",
    "\n",
    "More information about this play can be found in the Spotlight documentation: [Detect decision boundaries](https://renumics.com/docs/playbook/decision-boundary)\n",
    "\n",
    "For more data-centric AI workflows, check out our [Awesome Open Data-centric AI](https://github.com/Renumics/awesome-open-data-centric-ai) list on Github."
   ]
  },
  {
   "attachments": {},
   "cell_type": "markdown",
   "metadata": {},
   "source": [
    "## tldr"
   ]
  },
  {
   "cell_type": "code",
   "execution_count": 1,
   "metadata": {},
   "outputs": [
    {
     "name": "stdout",
     "output_type": "stream",
     "text": [
      "Requirement already satisfied: renumics-spotlight in d:\\code\\spotlight\\.venv\\lib\\site-packages (1.0.0rc11)\n",
      "Requirement already satisfied: datasets in d:\\code\\spotlight\\.venv\\lib\\site-packages (2.12.0)\n",
      "Requirement already satisfied: av in d:\\code\\spotlight\\.venv\\lib\\site-packages (from renumics-spotlight) (10.0.0)\n",
      "Requirement already satisfied: scikit-learn in d:\\code\\spotlight\\.venv\\lib\\site-packages (from renumics-spotlight) (1.2.2)\n",
      "Requirement already satisfied: tqdm in d:\\code\\spotlight\\.venv\\lib\\site-packages (from renumics-spotlight) (4.65.0)\n",
      "Requirement already satisfied: pygltflib>=1.15.1 in d:\\code\\spotlight\\.venv\\lib\\site-packages (from renumics-spotlight) (1.15.6)\n",
      "Requirement already satisfied: typing-extensions in d:\\code\\spotlight\\.venv\\lib\\site-packages (from renumics-spotlight) (4.5.0)\n",
      "Requirement already satisfied: numpy in d:\\code\\spotlight\\.venv\\lib\\site-packages (from renumics-spotlight) (1.24.3)\n",
      "Requirement already satisfied: pycatch22 in d:\\code\\spotlight\\.venv\\lib\\site-packages (from renumics-spotlight) (0.4.2)\n",
      "Requirement already satisfied: imageio>=2.18.0 in d:\\code\\spotlight\\.venv\\lib\\site-packages (from renumics-spotlight) (2.28.1)\n",
      "Requirement already satisfied: prettytable in d:\\code\\spotlight\\.venv\\lib\\site-packages (from renumics-spotlight) (3.7.0)\n",
      "Requirement already satisfied: packaging in d:\\code\\spotlight\\.venv\\lib\\site-packages (from renumics-spotlight) (23.1)\n",
      "Requirement already satisfied: networkx in d:\\code\\spotlight\\.venv\\lib\\site-packages (from renumics-spotlight) (3.1)\n",
      "Requirement already satisfied: databases[aiosqlite] in d:\\code\\spotlight\\.venv\\lib\\site-packages (from renumics-spotlight) (0.7.0)\n",
      "Requirement already satisfied: click in d:\\code\\spotlight\\.venv\\lib\\site-packages (from renumics-spotlight) (8.1.3)\n",
      "Requirement already satisfied: pydantic in d:\\code\\spotlight\\.venv\\lib\\site-packages (from renumics-spotlight) (1.10.7)\n",
      "Requirement already satisfied: orjson in d:\\code\\spotlight\\.venv\\lib\\site-packages (from renumics-spotlight) (3.8.12)\n",
      "Requirement already satisfied: validators in d:\\code\\spotlight\\.venv\\lib\\site-packages (from renumics-spotlight) (0.20.0)\n",
      "Requirement already satisfied: umap-learn in d:\\code\\spotlight\\.venv\\lib\\site-packages (from renumics-spotlight) (0.5.3)\n",
      "Requirement already satisfied: aiofiles in d:\\code\\spotlight\\.venv\\lib\\site-packages (from renumics-spotlight) (23.1.0)\n",
      "Requirement already satisfied: fastapi>=0.65.2 in d:\\code\\spotlight\\.venv\\lib\\site-packages (from renumics-spotlight) (0.95.1)\n",
      "Requirement already satisfied: diskcache in d:\\code\\spotlight\\.venv\\lib\\site-packages (from renumics-spotlight) (5.6.1)\n",
      "Requirement already satisfied: requests in d:\\code\\spotlight\\.venv\\lib\\site-packages (from renumics-spotlight) (2.30.0)\n",
      "Requirement already satisfied: appdirs in d:\\code\\spotlight\\.venv\\lib\\site-packages (from renumics-spotlight) (1.4.4)\n",
      "Requirement already satisfied: imagecodecs in d:\\code\\spotlight\\.venv\\lib\\site-packages (from renumics-spotlight) (2023.3.16)\n",
      "Requirement already satisfied: loguru in d:\\code\\spotlight\\.venv\\lib\\site-packages (from renumics-spotlight) (0.7.0)\n",
      "Requirement already satisfied: notebook in d:\\code\\spotlight\\.venv\\lib\\site-packages (from renumics-spotlight) (6.5.4)\n",
      "Requirement already satisfied: wsproto>=0.14 in d:\\code\\spotlight\\.venv\\lib\\site-packages (from renumics-spotlight) (1.2.0)\n",
      "Requirement already satisfied: ipywidgets in d:\\code\\spotlight\\.venv\\lib\\site-packages (from renumics-spotlight) (8.0.6)\n",
      "Requirement already satisfied: pandas in d:\\code\\spotlight\\.venv\\lib\\site-packages (from renumics-spotlight) (2.0.1)\n",
      "Requirement already satisfied: rsa in d:\\code\\spotlight\\.venv\\lib\\site-packages (from renumics-spotlight) (4.9)\n",
      "Requirement already satisfied: h5py>3.0 in d:\\code\\spotlight\\.venv\\lib\\site-packages (from renumics-spotlight) (3.8.0)\n",
      "Requirement already satisfied: trimesh in d:\\code\\spotlight\\.venv\\lib\\site-packages (from renumics-spotlight) (3.21.6)\n",
      "Requirement already satisfied: httptools in d:\\code\\spotlight\\.venv\\lib\\site-packages (from renumics-spotlight) (0.5.0)\n",
      "Requirement already satisfied: scikit-image in d:\\code\\spotlight\\.venv\\lib\\site-packages (from renumics-spotlight) (0.20.0)\n",
      "Requirement already satisfied: uvicorn in d:\\code\\spotlight\\.venv\\lib\\site-packages (from renumics-spotlight) (0.22.0)\n",
      "Requirement already satisfied: importlib_resources<5.8.0 in d:\\code\\spotlight\\.venv\\lib\\site-packages (from renumics-spotlight) (5.7.1)\n",
      "Requirement already satisfied: aiohttp in d:\\code\\spotlight\\.venv\\lib\\site-packages (from datasets) (3.8.4)\n",
      "Requirement already satisfied: dill<0.3.7,>=0.3.0 in d:\\code\\spotlight\\.venv\\lib\\site-packages (from datasets) (0.3.6)\n",
      "Requirement already satisfied: pyarrow>=8.0.0 in d:\\code\\spotlight\\.venv\\lib\\site-packages (from datasets) (12.0.0)\n",
      "Requirement already satisfied: fsspec[http]>=2021.11.1 in d:\\code\\spotlight\\.venv\\lib\\site-packages (from datasets) (2023.5.0)\n",
      "Requirement already satisfied: huggingface-hub<1.0.0,>=0.11.0 in d:\\code\\spotlight\\.venv\\lib\\site-packages (from datasets) (0.14.1)\n",
      "Requirement already satisfied: pyyaml>=5.1 in d:\\code\\spotlight\\.venv\\lib\\site-packages (from datasets) (6.0)\n",
      "Requirement already satisfied: multiprocess in d:\\code\\spotlight\\.venv\\lib\\site-packages (from datasets) (0.70.14)\n",
      "Requirement already satisfied: responses<0.19 in d:\\code\\spotlight\\.venv\\lib\\site-packages (from datasets) (0.18.0)\n",
      "Requirement already satisfied: xxhash in d:\\code\\spotlight\\.venv\\lib\\site-packages (from datasets) (3.2.0)\n",
      "Requirement already satisfied: starlette<0.27.0,>=0.26.1 in d:\\code\\spotlight\\.venv\\lib\\site-packages (from fastapi>=0.65.2->renumics-spotlight) (0.26.1)\n",
      "Requirement already satisfied: yarl<2.0,>=1.0 in d:\\code\\spotlight\\.venv\\lib\\site-packages (from aiohttp->datasets) (1.9.2)\n",
      "Requirement already satisfied: frozenlist>=1.1.1 in d:\\code\\spotlight\\.venv\\lib\\site-packages (from aiohttp->datasets) (1.3.3)\n",
      "Requirement already satisfied: multidict<7.0,>=4.5 in d:\\code\\spotlight\\.venv\\lib\\site-packages (from aiohttp->datasets) (6.0.4)\n",
      "Requirement already satisfied: charset-normalizer<4.0,>=2.0 in d:\\code\\spotlight\\.venv\\lib\\site-packages (from aiohttp->datasets) (3.1.0)\n",
      "Requirement already satisfied: attrs>=17.3.0 in d:\\code\\spotlight\\.venv\\lib\\site-packages (from aiohttp->datasets) (23.1.0)\n",
      "Requirement already satisfied: async-timeout<5.0,>=4.0.0a3 in d:\\code\\spotlight\\.venv\\lib\\site-packages (from aiohttp->datasets) (4.0.2)\n",
      "Requirement already satisfied: aiosignal>=1.1.2 in d:\\code\\spotlight\\.venv\\lib\\site-packages (from aiohttp->datasets) (1.3.1)\n",
      "Requirement already satisfied: filelock in d:\\code\\spotlight\\.venv\\lib\\site-packages (from huggingface-hub<1.0.0,>=0.11.0->datasets) (3.12.0)\n",
      "Requirement already satisfied: pillow>=8.3.2 in d:\\code\\spotlight\\.venv\\lib\\site-packages (from imageio>=2.18.0->renumics-spotlight) (9.5.0)\n",
      "Requirement already satisfied: dataclasses-json>=0.0.25 in d:\\code\\spotlight\\.venv\\lib\\site-packages (from pygltflib>=1.15.1->renumics-spotlight) (0.5.7)\n",
      "Requirement already satisfied: deprecated in d:\\code\\spotlight\\.venv\\lib\\site-packages (from pygltflib>=1.15.1->renumics-spotlight) (1.2.13)\n",
      "Requirement already satisfied: certifi>=2017.4.17 in d:\\code\\spotlight\\.venv\\lib\\site-packages (from requests->renumics-spotlight) (2023.5.7)\n",
      "Requirement already satisfied: urllib3<3,>=1.21.1 in d:\\code\\spotlight\\.venv\\lib\\site-packages (from requests->renumics-spotlight) (2.0.2)\n",
      "Requirement already satisfied: idna<4,>=2.5 in d:\\code\\spotlight\\.venv\\lib\\site-packages (from requests->renumics-spotlight) (3.4)\n",
      "Requirement already satisfied: colorama in d:\\code\\spotlight\\.venv\\lib\\site-packages (from tqdm->renumics-spotlight) (0.4.6)\n",
      "Requirement already satisfied: h11<1,>=0.9.0 in d:\\code\\spotlight\\.venv\\lib\\site-packages (from wsproto>=0.14->renumics-spotlight) (0.14.0)\n",
      "Requirement already satisfied: sqlalchemy<1.5,>=1.4.42 in d:\\code\\spotlight\\.venv\\lib\\site-packages (from databases[aiosqlite]->renumics-spotlight) (1.4.48)\n",
      "Requirement already satisfied: aiosqlite in d:\\code\\spotlight\\.venv\\lib\\site-packages (from databases[aiosqlite]->renumics-spotlight) (0.19.0)\n",
      "Requirement already satisfied: traitlets>=4.3.1 in d:\\code\\spotlight\\.venv\\lib\\site-packages (from ipywidgets->renumics-spotlight) (5.9.0)\n",
      "Requirement already satisfied: ipykernel>=4.5.1 in d:\\code\\spotlight\\.venv\\lib\\site-packages (from ipywidgets->renumics-spotlight) (6.23.1)\n",
      "Requirement already satisfied: widgetsnbextension~=4.0.7 in d:\\code\\spotlight\\.venv\\lib\\site-packages (from ipywidgets->renumics-spotlight) (4.0.7)\n",
      "Requirement already satisfied: ipython>=6.1.0 in d:\\code\\spotlight\\.venv\\lib\\site-packages (from ipywidgets->renumics-spotlight) (8.13.2)\n",
      "Requirement already satisfied: jupyterlab-widgets~=3.0.7 in d:\\code\\spotlight\\.venv\\lib\\site-packages (from ipywidgets->renumics-spotlight) (3.0.7)\n",
      "Requirement already satisfied: win32-setctime>=1.0.0 in d:\\code\\spotlight\\.venv\\lib\\site-packages (from loguru->renumics-spotlight) (1.1.0)\n",
      "Requirement already satisfied: jinja2 in d:\\code\\spotlight\\.venv\\lib\\site-packages (from notebook->renumics-spotlight) (3.1.2)\n",
      "Requirement already satisfied: jupyter-client>=5.3.4 in d:\\code\\spotlight\\.venv\\lib\\site-packages (from notebook->renumics-spotlight) (8.2.0)\n",
      "Requirement already satisfied: jupyter-core>=4.6.1 in d:\\code\\spotlight\\.venv\\lib\\site-packages (from notebook->renumics-spotlight) (5.3.0)\n",
      "Requirement already satisfied: nest-asyncio>=1.5 in d:\\code\\spotlight\\.venv\\lib\\site-packages (from notebook->renumics-spotlight) (1.5.6)\n",
      "Requirement already satisfied: pyzmq>=17 in d:\\code\\spotlight\\.venv\\lib\\site-packages (from notebook->renumics-spotlight) (25.0.2)\n",
      "Requirement already satisfied: nbclassic>=0.4.7 in d:\\code\\spotlight\\.venv\\lib\\site-packages (from notebook->renumics-spotlight) (1.0.0)\n",
      "Requirement already satisfied: tornado>=6.1 in d:\\code\\spotlight\\.venv\\lib\\site-packages (from notebook->renumics-spotlight) (6.3.2)\n",
      "Requirement already satisfied: terminado>=0.8.3 in d:\\code\\spotlight\\.venv\\lib\\site-packages (from notebook->renumics-spotlight) (0.17.1)\n",
      "Requirement already satisfied: nbformat in d:\\code\\spotlight\\.venv\\lib\\site-packages (from notebook->renumics-spotlight) (5.8.0)\n",
      "Requirement already satisfied: Send2Trash>=1.8.0 in d:\\code\\spotlight\\.venv\\lib\\site-packages (from notebook->renumics-spotlight) (1.8.2)\n",
      "Requirement already satisfied: nbconvert>=5 in d:\\code\\spotlight\\.venv\\lib\\site-packages (from notebook->renumics-spotlight) (7.4.0)\n",
      "Requirement already satisfied: ipython-genutils in d:\\code\\spotlight\\.venv\\lib\\site-packages (from notebook->renumics-spotlight) (0.2.0)\n",
      "Requirement already satisfied: argon2-cffi in d:\\code\\spotlight\\.venv\\lib\\site-packages (from notebook->renumics-spotlight) (21.3.0)\n",
      "Requirement already satisfied: prometheus-client in d:\\code\\spotlight\\.venv\\lib\\site-packages (from notebook->renumics-spotlight) (0.16.0)\n",
      "Requirement already satisfied: python-dateutil>=2.8.2 in d:\\code\\spotlight\\.venv\\lib\\site-packages (from pandas->renumics-spotlight) (2.8.2)\n",
      "Requirement already satisfied: pytz>=2020.1 in d:\\code\\spotlight\\.venv\\lib\\site-packages (from pandas->renumics-spotlight) (2023.3)\n",
      "Requirement already satisfied: tzdata>=2022.1 in d:\\code\\spotlight\\.venv\\lib\\site-packages (from pandas->renumics-spotlight) (2023.3)\n",
      "Requirement already satisfied: wcwidth in d:\\code\\spotlight\\.venv\\lib\\site-packages (from prettytable->renumics-spotlight) (0.2.6)\n",
      "Requirement already satisfied: pyasn1>=0.1.3 in d:\\code\\spotlight\\.venv\\lib\\site-packages (from rsa->renumics-spotlight) (0.5.0)\n",
      "Requirement already satisfied: lazy_loader>=0.1 in d:\\code\\spotlight\\.venv\\lib\\site-packages (from scikit-image->renumics-spotlight) (0.2)\n",
      "Requirement already satisfied: PyWavelets>=1.1.1 in d:\\code\\spotlight\\.venv\\lib\\site-packages (from scikit-image->renumics-spotlight) (1.4.1)\n",
      "Requirement already satisfied: scipy>=1.8 in d:\\code\\spotlight\\.venv\\lib\\site-packages (from scikit-image->renumics-spotlight) (1.10.1)\n",
      "Requirement already satisfied: tifffile>=2019.7.26 in d:\\code\\spotlight\\.venv\\lib\\site-packages (from scikit-image->renumics-spotlight) (2023.4.12)\n",
      "Requirement already satisfied: joblib>=1.1.1 in d:\\code\\spotlight\\.venv\\lib\\site-packages (from scikit-learn->renumics-spotlight) (1.2.0)\n",
      "Requirement already satisfied: threadpoolctl>=2.0.0 in d:\\code\\spotlight\\.venv\\lib\\site-packages (from scikit-learn->renumics-spotlight) (3.1.0)\n",
      "Requirement already satisfied: pynndescent>=0.5 in d:\\code\\spotlight\\.venv\\lib\\site-packages (from umap-learn->renumics-spotlight) (0.5.10)\n",
      "Requirement already satisfied: numba>=0.49 in d:\\code\\spotlight\\.venv\\lib\\site-packages (from umap-learn->renumics-spotlight) (0.57.0)\n",
      "Requirement already satisfied: decorator>=3.4.0 in d:\\code\\spotlight\\.venv\\lib\\site-packages (from validators->renumics-spotlight) (5.1.1)\n",
      "Requirement already satisfied: marshmallow<4.0.0,>=3.3.0 in d:\\code\\spotlight\\.venv\\lib\\site-packages (from dataclasses-json>=0.0.25->pygltflib>=1.15.1->renumics-spotlight) (3.19.0)\n",
      "Requirement already satisfied: marshmallow-enum<2.0.0,>=1.5.1 in d:\\code\\spotlight\\.venv\\lib\\site-packages (from dataclasses-json>=0.0.25->pygltflib>=1.15.1->renumics-spotlight) (1.5.1)\n",
      "Requirement already satisfied: typing-inspect>=0.4.0 in d:\\code\\spotlight\\.venv\\lib\\site-packages (from dataclasses-json>=0.0.25->pygltflib>=1.15.1->renumics-spotlight) (0.8.0)\n",
      "Requirement already satisfied: comm>=0.1.1 in d:\\code\\spotlight\\.venv\\lib\\site-packages (from ipykernel>=4.5.1->ipywidgets->renumics-spotlight) (0.1.3)\n",
      "Requirement already satisfied: psutil in d:\\code\\spotlight\\.venv\\lib\\site-packages (from ipykernel>=4.5.1->ipywidgets->renumics-spotlight) (5.9.5)\n",
      "Requirement already satisfied: matplotlib-inline>=0.1 in d:\\code\\spotlight\\.venv\\lib\\site-packages (from ipykernel>=4.5.1->ipywidgets->renumics-spotlight) (0.1.6)\n",
      "Requirement already satisfied: debugpy>=1.6.5 in d:\\code\\spotlight\\.venv\\lib\\site-packages (from ipykernel>=4.5.1->ipywidgets->renumics-spotlight) (1.6.7)\n",
      "Requirement already satisfied: jedi>=0.16 in d:\\code\\spotlight\\.venv\\lib\\site-packages (from ipython>=6.1.0->ipywidgets->renumics-spotlight) (0.18.2)\n",
      "Requirement already satisfied: backcall in d:\\code\\spotlight\\.venv\\lib\\site-packages (from ipython>=6.1.0->ipywidgets->renumics-spotlight) (0.2.0)\n",
      "Requirement already satisfied: stack-data in d:\\code\\spotlight\\.venv\\lib\\site-packages (from ipython>=6.1.0->ipywidgets->renumics-spotlight) (0.6.2)\n",
      "Requirement already satisfied: pickleshare in d:\\code\\spotlight\\.venv\\lib\\site-packages (from ipython>=6.1.0->ipywidgets->renumics-spotlight) (0.7.5)\n",
      "Requirement already satisfied: pygments>=2.4.0 in d:\\code\\spotlight\\.venv\\lib\\site-packages (from ipython>=6.1.0->ipywidgets->renumics-spotlight) (2.15.1)\n",
      "Requirement already satisfied: prompt-toolkit!=3.0.37,<3.1.0,>=3.0.30 in d:\\code\\spotlight\\.venv\\lib\\site-packages (from ipython>=6.1.0->ipywidgets->renumics-spotlight) (3.0.38)\n",
      "Requirement already satisfied: platformdirs>=2.5 in d:\\code\\spotlight\\.venv\\lib\\site-packages (from jupyter-core>=4.6.1->notebook->renumics-spotlight) (3.5.1)\n",
      "Requirement already satisfied: pywin32>=300 in d:\\code\\spotlight\\.venv\\lib\\site-packages (from jupyter-core>=4.6.1->notebook->renumics-spotlight) (306)\n",
      "Requirement already satisfied: notebook-shim>=0.2.3 in d:\\code\\spotlight\\.venv\\lib\\site-packages (from nbclassic>=0.4.7->notebook->renumics-spotlight) (0.2.3)\n",
      "Requirement already satisfied: jupyter-server>=1.8 in d:\\code\\spotlight\\.venv\\lib\\site-packages (from nbclassic>=0.4.7->notebook->renumics-spotlight) (2.5.0)\n",
      "Requirement already satisfied: mistune<3,>=2.0.3 in d:\\code\\spotlight\\.venv\\lib\\site-packages (from nbconvert>=5->notebook->renumics-spotlight) (2.0.5)\n",
      "Requirement already satisfied: tinycss2 in d:\\code\\spotlight\\.venv\\lib\\site-packages (from nbconvert>=5->notebook->renumics-spotlight) (1.2.1)\n",
      "Requirement already satisfied: defusedxml in d:\\code\\spotlight\\.venv\\lib\\site-packages (from nbconvert>=5->notebook->renumics-spotlight) (0.7.1)\n",
      "Requirement already satisfied: pandocfilters>=1.4.1 in d:\\code\\spotlight\\.venv\\lib\\site-packages (from nbconvert>=5->notebook->renumics-spotlight) (1.5.0)\n",
      "Requirement already satisfied: nbclient>=0.5.0 in d:\\code\\spotlight\\.venv\\lib\\site-packages (from nbconvert>=5->notebook->renumics-spotlight) (0.7.4)\n",
      "Requirement already satisfied: markupsafe>=2.0 in d:\\code\\spotlight\\.venv\\lib\\site-packages (from nbconvert>=5->notebook->renumics-spotlight) (2.1.2)\n",
      "Requirement already satisfied: jupyterlab-pygments in d:\\code\\spotlight\\.venv\\lib\\site-packages (from nbconvert>=5->notebook->renumics-spotlight) (0.2.2)\n",
      "Requirement already satisfied: beautifulsoup4 in d:\\code\\spotlight\\.venv\\lib\\site-packages (from nbconvert>=5->notebook->renumics-spotlight) (4.12.2)\n",
      "Requirement already satisfied: bleach in d:\\code\\spotlight\\.venv\\lib\\site-packages (from nbconvert>=5->notebook->renumics-spotlight) (6.0.0)\n",
      "Requirement already satisfied: jsonschema>=2.6 in d:\\code\\spotlight\\.venv\\lib\\site-packages (from nbformat->notebook->renumics-spotlight) (4.17.3)\n",
      "Requirement already satisfied: fastjsonschema in d:\\code\\spotlight\\.venv\\lib\\site-packages (from nbformat->notebook->renumics-spotlight) (2.16.3)\n",
      "Requirement already satisfied: llvmlite<0.41,>=0.40.0dev0 in d:\\code\\spotlight\\.venv\\lib\\site-packages (from numba>=0.49->umap-learn->renumics-spotlight) (0.40.0)\n",
      "Requirement already satisfied: six>=1.5 in d:\\code\\spotlight\\.venv\\lib\\site-packages (from python-dateutil>=2.8.2->pandas->renumics-spotlight) (1.16.0)\n",
      "Requirement already satisfied: greenlet!=0.4.17 in d:\\code\\spotlight\\.venv\\lib\\site-packages (from sqlalchemy<1.5,>=1.4.42->databases[aiosqlite]->renumics-spotlight) (2.0.2)\n",
      "Requirement already satisfied: anyio<5,>=3.4.0 in d:\\code\\spotlight\\.venv\\lib\\site-packages (from starlette<0.27.0,>=0.26.1->fastapi>=0.65.2->renumics-spotlight) (3.6.2)\n",
      "Requirement already satisfied: pywinpty>=1.1.0 in d:\\code\\spotlight\\.venv\\lib\\site-packages (from terminado>=0.8.3->notebook->renumics-spotlight) (2.0.10)\n",
      "Requirement already satisfied: argon2-cffi-bindings in d:\\code\\spotlight\\.venv\\lib\\site-packages (from argon2-cffi->notebook->renumics-spotlight) (21.2.0)\n",
      "Requirement already satisfied: wrapt<2,>=1.10 in d:\\code\\spotlight\\.venv\\lib\\site-packages (from deprecated->pygltflib>=1.15.1->renumics-spotlight) (1.15.0)\n",
      "Requirement already satisfied: sniffio>=1.1 in d:\\code\\spotlight\\.venv\\lib\\site-packages (from anyio<5,>=3.4.0->starlette<0.27.0,>=0.26.1->fastapi>=0.65.2->renumics-spotlight) (1.3.0)\n",
      "Requirement already satisfied: parso<0.9.0,>=0.8.0 in d:\\code\\spotlight\\.venv\\lib\\site-packages (from jedi>=0.16->ipython>=6.1.0->ipywidgets->renumics-spotlight) (0.8.3)\n",
      "Requirement already satisfied: pyrsistent!=0.17.0,!=0.17.1,!=0.17.2,>=0.14.0 in d:\\code\\spotlight\\.venv\\lib\\site-packages (from jsonschema>=2.6->nbformat->notebook->renumics-spotlight) (0.19.3)\n",
      "Requirement already satisfied: websocket-client in d:\\code\\spotlight\\.venv\\lib\\site-packages (from jupyter-server>=1.8->nbclassic>=0.4.7->notebook->renumics-spotlight) (1.5.1)\n",
      "Requirement already satisfied: jupyter-events>=0.4.0 in d:\\code\\spotlight\\.venv\\lib\\site-packages (from jupyter-server>=1.8->nbclassic>=0.4.7->notebook->renumics-spotlight) (0.6.3)\n",
      "Requirement already satisfied: jupyter-server-terminals in d:\\code\\spotlight\\.venv\\lib\\site-packages (from jupyter-server>=1.8->nbclassic>=0.4.7->notebook->renumics-spotlight) (0.4.4)\n",
      "Requirement already satisfied: mypy-extensions>=0.3.0 in d:\\code\\spotlight\\.venv\\lib\\site-packages (from typing-inspect>=0.4.0->dataclasses-json>=0.0.25->pygltflib>=1.15.1->renumics-spotlight) (1.0.0)\n",
      "Requirement already satisfied: cffi>=1.0.1 in d:\\code\\spotlight\\.venv\\lib\\site-packages (from argon2-cffi-bindings->argon2-cffi->notebook->renumics-spotlight) (1.15.1)\n",
      "Requirement already satisfied: soupsieve>1.2 in d:\\code\\spotlight\\.venv\\lib\\site-packages (from beautifulsoup4->nbconvert>=5->notebook->renumics-spotlight) (2.4.1)\n",
      "Requirement already satisfied: webencodings in d:\\code\\spotlight\\.venv\\lib\\site-packages (from bleach->nbconvert>=5->notebook->renumics-spotlight) (0.5.1)\n",
      "Requirement already satisfied: pure-eval in d:\\code\\spotlight\\.venv\\lib\\site-packages (from stack-data->ipython>=6.1.0->ipywidgets->renumics-spotlight) (0.2.2)\n",
      "Requirement already satisfied: asttokens>=2.1.0 in d:\\code\\spotlight\\.venv\\lib\\site-packages (from stack-data->ipython>=6.1.0->ipywidgets->renumics-spotlight) (2.2.1)\n",
      "Requirement already satisfied: executing>=1.2.0 in d:\\code\\spotlight\\.venv\\lib\\site-packages (from stack-data->ipython>=6.1.0->ipywidgets->renumics-spotlight) (1.2.0)\n",
      "Requirement already satisfied: pycparser in d:\\code\\spotlight\\.venv\\lib\\site-packages (from cffi>=1.0.1->argon2-cffi-bindings->argon2-cffi->notebook->renumics-spotlight) (2.21)\n",
      "Requirement already satisfied: rfc3986-validator>=0.1.1 in d:\\code\\spotlight\\.venv\\lib\\site-packages (from jupyter-events>=0.4.0->jupyter-server>=1.8->nbclassic>=0.4.7->notebook->renumics-spotlight) (0.1.1)\n",
      "Requirement already satisfied: rfc3339-validator in d:\\code\\spotlight\\.venv\\lib\\site-packages (from jupyter-events>=0.4.0->jupyter-server>=1.8->nbclassic>=0.4.7->notebook->renumics-spotlight) (0.1.4)\n",
      "Requirement already satisfied: python-json-logger>=2.0.4 in d:\\code\\spotlight\\.venv\\lib\\site-packages (from jupyter-events>=0.4.0->jupyter-server>=1.8->nbclassic>=0.4.7->notebook->renumics-spotlight) (2.0.7)\n",
      "Requirement already satisfied: fqdn in d:\\code\\spotlight\\.venv\\lib\\site-packages (from jsonschema>=2.6->nbformat->notebook->renumics-spotlight) (1.5.1)\n",
      "Requirement already satisfied: jsonpointer>1.13 in d:\\code\\spotlight\\.venv\\lib\\site-packages (from jsonschema>=2.6->nbformat->notebook->renumics-spotlight) (2.3)\n",
      "Requirement already satisfied: isoduration in d:\\code\\spotlight\\.venv\\lib\\site-packages (from jsonschema>=2.6->nbformat->notebook->renumics-spotlight) (20.11.0)\n",
      "Requirement already satisfied: uri-template in d:\\code\\spotlight\\.venv\\lib\\site-packages (from jsonschema>=2.6->nbformat->notebook->renumics-spotlight) (1.2.0)\n",
      "Requirement already satisfied: webcolors>=1.11 in d:\\code\\spotlight\\.venv\\lib\\site-packages (from jsonschema>=2.6->nbformat->notebook->renumics-spotlight) (1.13)\n",
      "Requirement already satisfied: arrow>=0.15.0 in d:\\code\\spotlight\\.venv\\lib\\site-packages (from isoduration->jsonschema>=2.6->nbformat->notebook->renumics-spotlight) (1.2.3)\n"
     ]
    },
    {
     "name": "stderr",
     "output_type": "stream",
     "text": [
      "\n",
      "[notice] A new release of pip is available: 23.0.1 -> 23.1.2\n",
      "[notice] To update, run: python.exe -m pip install --upgrade pip\n"
     ]
    }
   ],
   "source": [
    "#@title Install required packages with PIP\n",
    "\n",
    "!pip install renumics-spotlight datasets"
   ]
  },
  {
   "cell_type": "code",
   "execution_count": 2,
   "metadata": {},
   "outputs": [],
   "source": [
    "#@title Play as copy-n-paste functions\n",
    "\n",
    "import datasets\n",
    "import numpy as np\n",
    "import pandas as pd\n",
    "from renumics import spotlight\n",
    "import requests\n",
    "import json\n",
    "\n",
    "def boundary_score(df, probabilities_name='probabilities'):\n",
    "    def compute_score(probs):      \n",
    "        indices=np.argsort(probs)[::-1]   \n",
    "        score = [indices[0], indices[1], probs[indices[0]],probs[indices[1]] ] \n",
    "     \n",
    "        return score\n",
    "    \n",
    "    df_out=pd.DataFrame()\n",
    "    temp_scores=[compute_score(x) for x in df[probabilities_name]] \n",
    "    df_out['decision_boundary_score']=[x[3]/x[2] for x in temp_scores]\n",
    "    df_out['decision_boundary_alternate_label']=[x[1] for x in temp_scores]\n",
    "    \n",
    "       \n",
    "    return df_out\n",
    "\n"
   ]
  },
  {
   "attachments": {},
   "cell_type": "markdown",
   "metadata": {},
   "source": [
    "## Step-by-step example on CIFAR-100\n",
    "\n",
    "### Load CIFAR-100 from Huggingface hub and convert it to Pandas dataframe"
   ]
  },
  {
   "cell_type": "code",
   "execution_count": 3,
   "metadata": {},
   "outputs": [
    {
     "name": "stderr",
     "output_type": "stream",
     "text": [
      "Found cached dataset cifar100-enriched (C:/Users/stefa/.cache/huggingface/datasets/renumics___cifar100-enriched/enriched/1.0.0/0c3a4d39907542524496f951378c35c7dbfd09f05b0818d9b117174036136f33)\n"
     ]
    }
   ],
   "source": [
    "dataset = datasets.load_dataset(\"renumics/cifar100-enriched\", split=\"all\")\n",
    "\n",
    "df = dataset.to_pandas()"
   ]
  },
  {
   "attachments": {},
   "cell_type": "markdown",
   "metadata": {},
   "source": [
    "### Compute decision boundary score and alternate label"
   ]
  },
  {
   "cell_type": "code",
   "execution_count": 4,
   "metadata": {},
   "outputs": [],
   "source": [
    "df_boundary = boundary_score(df)\n",
    "df = pd.concat([df, df_boundary], axis=1)\n",
    "df['decision_boundary_alternate_label_str']=[dataset.features[\"fine_label\"].int2str(x) for x in df['decision_boundary_alternate_label']]"
   ]
  },
  {
   "attachments": {},
   "cell_type": "markdown",
   "metadata": {},
   "source": [
    "### Inspect decision boundary with Spotlight\n",
    "\n",
    "> ⚠️ Running Spotlight in Colab currently has severe limitations (slow, no similarity map, no layouts) due to Colab restrictions (e.g. no websocket support). Run the notebook locally for the full Spotlight experience"
   ]
  },
  {
   "cell_type": "code",
   "execution_count": 6,
   "metadata": {},
   "outputs": [
    {
     "name": "stderr",
     "output_type": "stream",
     "text": [
      "d:\\Code\\spotlight\\.venv\\lib\\site-packages\\renumics\\spotlight\\io\\pandas.py:187: SettingWithCopyWarning: \n",
      "A value is trying to be set on a copy of a slice from a DataFrame\n",
      "\n",
      "See the caveats in the documentation: https://pandas.pydata.org/pandas-docs/stable/user_guide/indexing.html#returning-a-view-versus-a-copy\n",
      "  column[str_mask] = column[str_mask].replace(\"\", None)\n",
      "d:\\Code\\spotlight\\.venv\\lib\\site-packages\\renumics\\spotlight\\io\\pandas.py:193: SettingWithCopyWarning: \n",
      "A value is trying to be set on a copy of a slice from a DataFrame\n",
      "\n",
      "See the caveats in the documentation: https://pandas.pydata.org/pandas-docs/stable/user_guide/indexing.html#returning-a-view-versus-a-copy\n",
      "  column[str_mask] = column[str_mask].apply(try_literal_eval)\n",
      "d:\\Code\\spotlight\\.venv\\lib\\site-packages\\renumics\\spotlight\\io\\pandas.py:187: SettingWithCopyWarning: \n",
      "A value is trying to be set on a copy of a slice from a DataFrame\n",
      "\n",
      "See the caveats in the documentation: https://pandas.pydata.org/pandas-docs/stable/user_guide/indexing.html#returning-a-view-versus-a-copy\n",
      "  column[str_mask] = column[str_mask].replace(\"\", None)\n",
      "d:\\Code\\spotlight\\.venv\\lib\\site-packages\\renumics\\spotlight\\io\\pandas.py:193: SettingWithCopyWarning: \n",
      "A value is trying to be set on a copy of a slice from a DataFrame\n",
      "\n",
      "See the caveats in the documentation: https://pandas.pydata.org/pandas-docs/stable/user_guide/indexing.html#returning-a-view-versus-a-copy\n",
      "  column[str_mask] = column[str_mask].apply(try_literal_eval)\n",
      "\u001b[32m2023-05-24 09:58:01.348\u001b[0m | \u001b[1mINFO    \u001b[0m | \u001b[36mrenumics.spotlight.backend.websockets\u001b[0m:\u001b[36mlisten\u001b[0m:\u001b[36m206\u001b[0m - \u001b[1mWS message with type umap received.\u001b[0m\n",
      "\u001b[32m2023-05-24 09:58:12.326\u001b[0m | \u001b[1mINFO    \u001b[0m | \u001b[36mrenumics.spotlight.backend.websockets\u001b[0m:\u001b[36mlisten\u001b[0m:\u001b[36m206\u001b[0m - \u001b[1mWS message with type umap received.\u001b[0m\n",
      "\u001b[32m2023-05-24 09:58:31.720\u001b[0m | \u001b[1mINFO    \u001b[0m | \u001b[36mrenumics.spotlight.backend.websockets\u001b[0m:\u001b[36mlisten\u001b[0m:\u001b[36m206\u001b[0m - \u001b[1mWS message with type umap received.\u001b[0m\n"
     ]
    }
   ],
   "source": [
    "df_show = df.drop(columns=['embedding', 'probabilities'])\n",
    "\n",
    "\n",
    "# handle google colab differently\n",
    "import sys\n",
    "IN_COLAB = 'google.colab' in sys.modules\n",
    "\n",
    "if IN_COLAB:\n",
    "    #visualization in Google Colab only works in chrome and does not support websockets, we need some hacks to visualize something\n",
    "    df_show=df_show[:10000]\n",
    "    df_show['embx'] =  [emb[0] for emb in df_show['embedding_reduced'] ]\n",
    "    df_show['emby'] =  [emb[1] for emb in df_show['embedding_reduced'] ]\n",
    "    port=50123\n",
    "    spotlight.show(df_show, port=port, dtype={\"image\": spotlight.Image, \"embedding_reduced\": spotlight.Embedding})  \n",
    "    from google.colab.output import eval_js  # type: ignore\n",
    "    print(str(eval_js(f\"google.colab.kernel.proxyPort({port}, {{'cache': true}})\")))\n",
    "\n",
    "else:\n",
    "    df_show = df.drop(columns=['embedding', 'probabilities'])\n",
    "    layout_url = \"https://raw.githubusercontent.com/Renumics/spotlight/playbook_initial_draft/playbook/rookie/decision_boundary_layout.json\"\n",
    "    response = requests.get(layout_url)\n",
    "    layout = spotlight.layout.nodes.Layout(**json.loads(response.text))\n",
    "    spotlight.show(df_show, dtype={\"image\": spotlight.Image, \"embedding_reduced\": spotlight.Embedding}, layout=layout)"
   ]
  }
 ],
 "metadata": {
  "interpreter": {
   "hash": "a0712b5d67739eb35ad63a27edd5fddd52f439fecfdecbb3b06a7c473af2eb31"
  },
  "kernelspec": {
   "display_name": "Python 3 (ipykernel)",
   "language": "python",
   "name": "python3"
  },
  "language_info": {
   "codemirror_mode": {
    "name": "ipython",
    "version": 3
   },
   "file_extension": ".py",
   "mimetype": "text/x-python",
   "name": "python",
   "nbconvert_exporter": "python",
   "pygments_lexer": "ipython3",
   "version": "3.10.11"
  }
 },
 "nbformat": 4,
 "nbformat_minor": 2
}
