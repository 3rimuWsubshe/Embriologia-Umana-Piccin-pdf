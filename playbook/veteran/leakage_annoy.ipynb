{
 "cells": [
  {
   "attachments": {},
   "cell_type": "markdown",
   "metadata": {},
   "source": [
    "# Detect leakage based on embedding similarity\n",
    "\n",
    "We use the [Annoy library](https://github.com/spotify/annoy) to find nearest neighbors and to detect leakage in the test split.\n",
    "\n",
    "More information about this play can be found in the Spotlight documentation: [Detect and remove leakage](https://renumics.com/docs/playbook/leakage_annoy)\n",
    "\n",
    "For more data-centric AI workflows, check out our [Awesome Open Data-centric AI](https://github.com/Renumics/awesome-open-data-centric-ai) list on Github."
   ]
  },
  {
   "attachments": {},
   "cell_type": "markdown",
   "metadata": {},
   "source": [
    "## tldr"
   ]
  },
  {
   "cell_type": "code",
   "execution_count": null,
   "metadata": {},
   "outputs": [],
   "source": [
    "#@title Install required packages with PIP\n",
    "\n",
    "!pip install renumics-spotlight datasets annoy"
   ]
  },
  {
   "cell_type": "code",
   "execution_count": null,
   "metadata": {},
   "outputs": [],
   "source": [
    "#@title Play as copy-n-paste functions\n",
    "\n",
    "import datasets\n",
    "from renumics import spotlight\n",
    "from annoy import AnnoyIndex\n",
    "import pandas as pd\n",
    "import requests\n",
    "\n",
    "\n",
    "def nearest_neighbor_annoy(df, embedding_name='embedding', threshold=0.3, tree_size=100):\n",
    "\n",
    "    embs = df[embedding_name] \n",
    "\n",
    "    t = AnnoyIndex(len(embs[0]), 'angular')\n",
    "    \n",
    "    for idx, x in enumerate(embs):\n",
    "          t.add_item(idx, x)\n",
    "\n",
    "    t.build(tree_size)\n",
    "\n",
    "    images = df['image']\n",
    "    \n",
    "    df_nn = pd.DataFrame()\n",
    "\n",
    "    nn_id = [t.get_nns_by_item(i,2)[1] for i in range(len(embs))]\n",
    "    df_nn['nn_id'] = nn_id\n",
    "    df_nn['nn_image'] = [images[i] for i in nn_id]\n",
    "    df_nn['nn_distance'] = [t.get_distance(i, nn_id[i]) for i in range(len(embs))] \n",
    "    df_nn['nn_flag'] = (df_nn.nn_distance < threshold)    \n",
    "   \n",
    "    return df_nn\n",
    "\n",
    "\n",
    "def detect_leakage(df, nn_id_name='nn_id', split_name='split', threshold=0.3):\n",
    "    nn_id = df['nn_id']\n",
    "    split = split = df['split']\n",
    "\n",
    "    df_leak = pd.DataFrame()\n",
    "    df_leak['nn_same_split'] = [True if split[i]==split[nn_id[i]] else False for i in range(len(nn_id))]\n",
    "    df_leak['leakage_flag'] = (df.nn_distance < 0.3) & (df_leak['nn_same_split'] != True )    \n",
    "       \n",
    "    return df_leak"
   ]
  },
  {
   "attachments": {},
   "cell_type": "markdown",
   "metadata": {},
   "source": [
    "## Step-by-step example on CIFAR-100\n",
    "\n",
    "### Load CIFAR-100 from Huggingface hub and convert it to Pandas dataframe"
   ]
  },
  {
   "cell_type": "code",
   "execution_count": null,
   "metadata": {},
   "outputs": [],
   "source": [
    "dataset = datasets.load_dataset(\"renumics/cifar100-enriched\", split=\"all\")\n",
    "\n",
    "df = dataset.to_pandas()"
   ]
  },
  {
   "attachments": {},
   "cell_type": "markdown",
   "metadata": {},
   "source": [
    "### Compute heuristics for data leakage based on nearest neighbor distance"
   ]
  },
  {
   "cell_type": "code",
   "execution_count": null,
   "metadata": {},
   "outputs": [],
   "source": [
    "df_nn = nearest_neighbor_annoy(df)\n",
    "df = pd.concat([df, df_nn], axis=1)\n",
    "df_leak = detect_leakage(df)\n",
    "df = pd.concat([df, df_leak], axis=1)"
   ]
  },
  {
   "attachments": {},
   "cell_type": "markdown",
   "metadata": {},
   "source": [
    "### Inspect and remove leakage with Spotlight\n",
    "\n",
    "> ⚠️ Running Spotlight in Colab currently has severe limitations (slow, no similarity map, no layouts) due to Colab restrictions (e.g. no websocket support). Run the notebook locally for the full Spotlight experience"
   ]
  },
  {
   "cell_type": "code",
   "execution_count": null,
   "metadata": {},
   "outputs": [],
   "source": [
    "df_show = df.drop(columns=['embedding', 'probabilities'])\n",
    "\n",
    "\n",
    "# handle google colab differently\n",
    "import sys\n",
    "IN_COLAB = 'google.colab' in sys.modules\n",
    "\n",
    "if IN_COLAB:\n",
    "    #visualization in Google Colab only works in chrome and does not support websockets, we need some hacks to visualize something\n",
    "    df_show=df_show[:10000]\n",
    "    df_show['embx'] =  [emb[0] for emb in df_show['embedding_reduced'] ]\n",
    "    df_show['emby'] =  [emb[1] for emb in df_show['embedding_reduced'] ]\n",
    "    port=50123\n",
    "    spotlight.show(df_show, port=port, dtype={\"image\": spotlight.Image, \"embedding_reduced\": spotlight.Embedding})  \n",
    "    from google.colab.output import eval_js  # type: ignore\n",
    "    print(str(eval_js(f\"google.colab.kernel.proxyPort({port}, {{'cache': true}})\")))\n",
    "\n",
    "else:\n",
    "    layout_file = 'leakage_annoy.json'\n",
    "    spotlight.show(df_show, dtype={\"image\": spotlight.Image, \"nn_image\": spotlight.Image, \"embedding_reduced\": spotlight.Embedding}, layout=layout_file)"
   ]
  }
 ],
 "metadata": {
  "kernelspec": {
   "display_name": ".venv",
   "language": "python",
   "name": "python3"
  },
  "language_info": {
   "name": "python",
   "version": "3.10.11"
  },
  "orig_nbformat": 4
 },
 "nbformat": 4,
 "nbformat_minor": 2
}
