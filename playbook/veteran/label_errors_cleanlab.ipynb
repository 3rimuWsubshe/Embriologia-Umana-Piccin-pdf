{
 "cells": [
  {
   "attachments": {},
   "cell_type": "markdown",
   "metadata": {},
   "source": [
    "# Find false labels with Cleanlab\n",
    "\n",
    "We use the [Cleanlab library](https://github.com/cleanlab/cleanlab) to compute label error scores. We then manually inspect the data points to correct them.\n",
    "\n",
    "More information about this play can be found in the Spotlight documentation: [Find label errors with Cleanlab](https://renumics.com/docs/playbook/label_errors_cleanlab)\n",
    "\n",
    "For more data-centric AI workflows, check out our [Awesome Open Data-centric AI](https://github.com/Renumics/awesome-open-data-centric-ai) list on Github."
   ]
  },
  {
   "attachments": {},
   "cell_type": "markdown",
   "metadata": {},
   "source": [
    "## tldr"
   ]
  },
  {
   "cell_type": "code",
   "execution_count": null,
   "metadata": {},
   "outputs": [],
   "source": [
    "#@title Install required packages with PIP\n",
    "\n",
    "!pip install renumics-spotlight cleanlab datasets"
   ]
  },
  {
   "cell_type": "code",
   "execution_count": null,
   "metadata": {},
   "outputs": [],
   "source": [
    "#@title Play as copy-n-paste functions\n",
    "import datasets\n",
    "from renumics import spotlight\n",
    "from cleanlab.filter import find_label_issues\n",
    "import numpy as np\n",
    "import pandas as pd\n",
    "import requests\n",
    "\n",
    "\n",
    "def label_error_score_cleanlab(df, probabilities_name='probabilities', label_name='labels'):\n",
    " \n",
    "    probs = np.stack(df[probabilities_name].to_numpy())\n",
    "    labels = df[label_name].to_numpy()\n",
    " \n",
    "    label_issues = find_label_issues(labels, probs)\n",
    "    \n",
    "    df_out=pd.DataFrame()\n",
    "    df_out['label_error_score']=label_issues    \n",
    "   \n",
    "    return df_out"
   ]
  },
  {
   "attachments": {},
   "cell_type": "markdown",
   "metadata": {},
   "source": [
    "## Step-by-step example on CIFAR-100\n",
    "\n",
    "### Load CIFAR-100 from Huggingface hub and convert it to Pandas dataframe"
   ]
  },
  {
   "cell_type": "code",
   "execution_count": null,
   "metadata": {},
   "outputs": [],
   "source": [
    "dataset = datasets.load_dataset(\"renumics/cifar100-enriched\", split=\"all\")\n",
    "\n",
    "df = dataset.to_pandas()"
   ]
  },
  {
   "attachments": {},
   "cell_type": "markdown",
   "metadata": {},
   "source": [
    "### Compute label error scores with Cleanlab"
   ]
  },
  {
   "cell_type": "code",
   "execution_count": null,
   "metadata": {},
   "outputs": [],
   "source": [
    "df_le = label_error_score_cleanlab(df, label_name='fine_label')\n",
    "df = pd.concat([df, df_le], axis=1)"
   ]
  },
  {
   "attachments": {},
   "cell_type": "markdown",
   "metadata": {},
   "source": [
    "### Inspect label errors and remove them with Spotlight\n",
    "\n",
    "> ⚠️ Running Spotlight in Colab currently has severe limitations (slow, no similarity map, no layouts) due to Colab restrictions (e.g. no websocket support). Run the notebook locally for the full Spotlight experience"
   ]
  },
  {
   "cell_type": "code",
   "execution_count": null,
   "metadata": {},
   "outputs": [],
   "source": [
    "df_show = df.drop(columns=['embedding', 'probabilities'])\n",
    "\n",
    "# handle google colab differently\n",
    "import sys\n",
    "IN_COLAB = 'google.colab' in sys.modules\n",
    "\n",
    "if IN_COLAB:\n",
    "    #visualization in Google Colab only works in chrome and does not support websockets, we need some hacks to visualize something\n",
    "    df_show=df_show[:10000]\n",
    "    df_show['embx'] =  [emb[0] for emb in df_show['embedding_reduced'] ]\n",
    "    df_show['emby'] =  [emb[1] for emb in df_show['embedding_reduced'] ]\n",
    "    port=50123\n",
    "    spotlight.show(df_show, port=port, dtype={\"image\": spotlight.Image, \"embedding_reduced\": spotlight.Embedding})  \n",
    "    from google.colab.output import eval_js  # type: ignore\n",
    "    print(str(eval_js(f\"google.colab.kernel.proxyPort({port}, {{'cache': true}})\")))\n",
    "\n",
    "else:\n",
    "    layout_file=\"label_errors_cleanlab.json\"\n",
    "    spotlight.show(df_show, dtype={\"image\": spotlight.Image, \"embedding_reduced\": spotlight.Embedding}, layout=layout_file)"
   ]
  }
 ],
 "nbformat": 4,
 "nbformat_minor": 2
}
